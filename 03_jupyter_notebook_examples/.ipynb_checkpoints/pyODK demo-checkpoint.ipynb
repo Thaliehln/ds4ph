{
 "cells": [
  {
   "cell_type": "markdown",
   "metadata": {},
   "source": [
    "# How to use the ODK Central API using pyODK - Demo"
   ]
  },
  {
   "cell_type": "markdown",
   "metadata": {},
   "source": [
    "This demo is not an exhaustive display of all the features available through the ODK API.\n",
    "\n",
    "Also keep an eye on [pyODK](https://github.com/getodk/pyodk), the project from the ODK team to develop an official Python library for ODK (initiated in July 2022)."
   ]
  },
  {
   "cell_type": "code",
   "execution_count": 1,
   "metadata": {},
   "outputs": [
    {
     "name": "stdout",
     "output_type": "stream",
     "text": [
      "3.8\n"
     ]
    }
   ],
   "source": [
    "import sys\n",
    "print(\"{}.{}\".format(sys.version_info.major, sys.version_info.minor))"
   ]
  },
  {
   "cell_type": "code",
   "execution_count": 2,
   "metadata": {},
   "outputs": [],
   "source": [
    "import pyodk\n",
    "import pandas as pd"
   ]
  },
  {
   "cell_type": "code",
   "execution_count": 4,
   "metadata": {},
   "outputs": [
    {
     "name": "stdout",
     "output_type": "stream",
     "text": [
      "                                         __id       today  \\\n",
      "0   uuid:a7b91f43-6b0c-4310-821d-c83cad7a191e  2022-09-26   \n",
      "1   uuid:ca4f34b3-fc34-4681-abcf-dcfe7c62d47e  2022-09-26   \n",
      "2   uuid:d55e75ed-5f92-4bd5-b15e-57f8885d8e42  2022-09-26   \n",
      "3   uuid:8470522b-4254-40c0-b917-d1e3a5720533  2022-09-26   \n",
      "4   uuid:22567b22-b904-46e0-b49e-9b33afcb108e  2022-09-25   \n",
      "5   uuid:d763acb0-bfdc-482d-ae6d-bfea1ff9258a  2022-09-25   \n",
      "6   uuid:a0e64b67-b8c5-4d84-9a81-9a0c9aad185b  2022-09-25   \n",
      "7   uuid:497e76eb-aa06-4a45-8268-29266eb2c501  2022-09-25   \n",
      "8   uuid:0fd8f70c-3e2c-45ae-a15f-bbea5db97a35  2022-09-24   \n",
      "9   uuid:178b2ec8-d41d-4bfe-a371-03ac7ce34074  2022-09-24   \n",
      "10  uuid:142dfbc4-60dc-4552-9450-837f8acd63ad  2022-09-24   \n",
      "11  uuid:ef36e96e-0c2f-45eb-99ed-780b90521e0c  2022-09-24   \n",
      "12  uuid:6e70781c-0e5c-4dbc-bb67-4cf036d4309b  2022-09-24   \n",
      "13  uuid:2adfa8c0-9604-4b31-beae-99d5e7e11c94  2022-09-23   \n",
      "\n",
      "                            start                            end  \\\n",
      "0   2022-09-26T08:52:29.208+03:00  2022-09-26T08:58:34.146+03:00   \n",
      "1   2022-09-26T08:30:11.975+03:00  2022-09-26T08:52:31.208+03:00   \n",
      "2   2022-09-26T04:14:50.923+03:00  2022-09-26T04:31:16.104+03:00   \n",
      "3   2022-09-26T03:57:43.553+03:00  2022-09-26T04:06:36.495+03:00   \n",
      "4   2022-09-25T22:35:19.620+03:00  2022-09-25T22:56:16.772+03:00   \n",
      "5   2022-09-25T13:06:18.292+03:00  2022-09-25T13:18:18.391+03:00   \n",
      "6   2022-09-25T09:26:49.204+02:00  2022-09-25T09:46:28.072+02:00   \n",
      "7   2022-09-25T01:14:42.839+03:00  2022-09-25T02:26:42.149+03:00   \n",
      "8   2022-09-24T23:12:30.441+03:00  2022-09-25T00:36:30.295+03:00   \n",
      "9   2022-09-24T14:28:46.465+03:00  2022-09-24T14:53:14.239+03:00   \n",
      "10  2022-09-24T12:38:59.285+03:00  2022-09-24T13:39:44.364+03:00   \n",
      "11  2022-09-24T11:28:35.622+03:00  2022-09-24T11:52:56.308+03:00   \n",
      "12  2022-09-24T07:50:33.246+03:00  2022-09-24T08:02:36.541+03:00   \n",
      "13  2022-09-23T20:18:40.089+03:00  2022-09-23T20:28:15.712+03:00   \n",
      "\n",
      "   survey/generated_note_name_7 survey/generated_note_name_8  \\\n",
      "0                          None                         None   \n",
      "1                          None                         None   \n",
      "2                          None                         None   \n",
      "3                          None                         None   \n",
      "4                          None                         None   \n",
      "5                          None                         None   \n",
      "6                          None                         None   \n",
      "7                          None                         None   \n",
      "8                          None                         None   \n",
      "9                          None                         None   \n",
      "10                         None                         None   \n",
      "11                         None                         None   \n",
      "12                         None                         None   \n",
      "13                         None                         None   \n",
      "\n",
      "   survey/generated_note_name_9              survey/name  \\\n",
      "0                          None            Francis Njiri   \n",
      "1                          None            Ngari Gitonga   \n",
      "2                          None           Michael Praise   \n",
      "3                          None  Gloria Gabriel, Shirima   \n",
      "4                          None                 Nyandele   \n",
      "5                          None          Mmbaga Selemani   \n",
      "6                          None            Fabian Schaer   \n",
      "7                          None          Ally Aziz Ahmad   \n",
      "8                          None                    Irema   \n",
      "9                          None       Lulu Wilson Ismael   \n",
      "10                         None                  Masanja   \n",
      "11                         None          MSUYA, HAJIRANI   \n",
      "12                         None          Ibrahim Mtebene   \n",
      "13                         None       Kato Nyangirabandi   \n",
      "\n",
      "                 survey/email survey/affiliation  ... __system/updatedAt  \\\n",
      "0            fnjiri@gmail.com                  2  ...               None   \n",
      "1          kenaging@gmail.com                  2  ...               None   \n",
      "2          pmichael@ihi.or.tz                  1  ...               None   \n",
      "3          gshirima@ihi.or.tz                  1  ...               None   \n",
      "4        nyandele07@gmail.com                  1  ...               None   \n",
      "5           smmbaga@ihi.or.tz                  1  ...               None   \n",
      "6   fabian.schaer@swisstph.ch                  3  ...               None   \n",
      "7            aahmad@ihi.or.tz                  1  ...               None   \n",
      "8            iirema@ihi.or.tz                  1  ...               None   \n",
      "9           lwilson@ihi.or.tz                  1  ...               None   \n",
      "10    brianmasanja7@gmail.com                  1  ...               None   \n",
      "11           hmsuya@ihi.or.tz                  1  ...               None   \n",
      "12         imtebene@ihi.or.tz                  1  ...               None   \n",
      "13            wkato@ihi.or.tz                  1  ...               None   \n",
      "\n",
      "   __system/submitterId                             __system/submitterName  \\\n",
      "0                   490  Data Science for Public Health workshop - pre-...   \n",
      "1                   490  Data Science for Public Health workshop - pre-...   \n",
      "2                   490  Data Science for Public Health workshop - pre-...   \n",
      "3                   490  Data Science for Public Health workshop - pre-...   \n",
      "4                   490  Data Science for Public Health workshop - pre-...   \n",
      "5                   490  Data Science for Public Health workshop - pre-...   \n",
      "6                   490  Data Science for Public Health workshop - pre-...   \n",
      "7                   490  Data Science for Public Health workshop - pre-...   \n",
      "8                   490  Data Science for Public Health workshop - pre-...   \n",
      "9                   490  Data Science for Public Health workshop - pre-...   \n",
      "10                  490  Data Science for Public Health workshop - pre-...   \n",
      "11                  490  Data Science for Public Health workshop - pre-...   \n",
      "12                  490  Data Science for Public Health workshop - pre-...   \n",
      "13                  490  Data Science for Public Health workshop - pre-...   \n",
      "\n",
      "   __system/attachmentsPresent __system/attachmentsExpected __system/status  \\\n",
      "0                            0                            0            None   \n",
      "1                            0                            0            None   \n",
      "2                            0                            0            None   \n",
      "3                            0                            0            None   \n",
      "4                            0                            0            None   \n",
      "5                            0                            0            None   \n",
      "6                            0                            0            None   \n",
      "7                            0                            0            None   \n",
      "8                            0                            0            None   \n",
      "9                            0                            0            None   \n",
      "10                           0                            0            None   \n",
      "11                           0                            0            None   \n",
      "12                           0                            0            None   \n",
      "13                           0                            0            None   \n",
      "\n",
      "   __system/reviewState __system/deviceId __system/edits __system/formVersion  \n",
      "0                  None              None              0                    1  \n",
      "1                  None              None              0                    1  \n",
      "2                  None              None              0                    1  \n",
      "3                  None              None              0                    1  \n",
      "4                  None              None              0                    1  \n",
      "5                  None              None              0                    1  \n",
      "6                  None              None              0                    1  \n",
      "7                  None              None              0                    1  \n",
      "8                  None              None              0                    1  \n",
      "9                  None              None              0                    1  \n",
      "10                 None              None              0                    1  \n",
      "11                 None              None              0                    1  \n",
      "12                 None              None              0                    1  \n",
      "13                 None              None              0                    1  \n",
      "\n",
      "[14 rows x 72 columns]\n"
     ]
    }
   ],
   "source": [
    "from pyodk.client import Client\n",
    "\n",
    "with Client() as client:\n",
    "    projects = client.projects.list()\n",
    "    forms = client.forms.list()\n",
    "    submissions = client.submissions.get_table(form_id = \"pre_ds4ph_workshop_form\",\n",
    "                                               project_id = 3)\n",
    "    df = pd.json_normalize(data = submissions['value'],\n",
    "                           sep='/')\n",
    "df.head(5)"
   ]
  },
  {
   "cell_type": "code",
   "execution_count": null,
   "metadata": {},
   "outputs": [],
   "source": []
  }
 ],
 "metadata": {
  "kernelspec": {
   "display_name": "Python 3 (ipykernel)",
   "language": "python",
   "name": "python3"
  },
  "language_info": {
   "codemirror_mode": {
    "name": "ipython",
    "version": 3
   },
   "file_extension": ".py",
   "mimetype": "text/x-python",
   "name": "python",
   "nbconvert_exporter": "python",
   "pygments_lexer": "ipython3",
   "version": "3.8.13"
  }
 },
 "nbformat": 4,
 "nbformat_minor": 4
}
