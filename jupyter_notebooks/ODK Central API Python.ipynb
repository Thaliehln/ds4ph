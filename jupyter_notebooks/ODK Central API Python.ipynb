{
 "cells": [
  {
   "cell_type": "code",
   "execution_count": 1,
   "metadata": {},
   "outputs": [],
   "source": [
    "import requests\n",
    "import json\n",
    "import os\n",
    "import cgi\n",
    "import pandas as pd"
   ]
  },
  {
   "cell_type": "markdown",
   "metadata": {},
   "source": [
    "This code was developped following the great example provided by Yaw Anokwa (ODK)\n",
    "https://forum.getodk.org/t/error-in-get-request-for-central-api/26571/10"
   ]
  },
  {
   "cell_type": "markdown",
   "metadata": {},
   "source": [
    "### Session authentication"
   ]
  },
  {
   "cell_type": "markdown",
   "metadata": {},
   "source": [
    "https://odkcentral.docs.apiary.io/#reference/authentication/session-authentication/logging-in"
   ]
  },
  {
   "cell_type": "code",
   "execution_count": 2,
   "metadata": {},
   "outputs": [],
   "source": [
    "def get_session_token(central_url, central_email, central_password):\n",
    "\n",
    "    email_token_response = requests.post(\n",
    "        central_url + \"/v1/sessions\",\n",
    "        data = json.dumps({\"email\": central_email, \"password\": central_password}),\n",
    "        headers = {\"Content-Type\": \"application/json\"},\n",
    "    )\n",
    "\n",
    "    if email_token_response.status_code == 200:\n",
    "        return email_token_response.json()[\"token\"]"
   ]
  },
  {
   "cell_type": "markdown",
   "metadata": {},
   "source": [
    "### List projects"
   ]
  },
  {
   "cell_type": "markdown",
   "metadata": {},
   "source": [
    "https://odkcentral.docs.apiary.io/#reference/project-management/projects/listing-projects"
   ]
  },
  {
   "cell_type": "code",
   "execution_count": 3,
   "metadata": {},
   "outputs": [],
   "source": [
    "def list_projects(central_url, session_token):\n",
    "\n",
    "    projects_response = requests.get(\n",
    "        central_url + \"/v1/projects/\",\n",
    "        headers={\"Authorization\": \"Bearer \" + session_token},\n",
    "    )\n",
    "\n",
    "    projects = {}\n",
    "    for project in projects_response.json():\n",
    "        projects[project[\"id\"]] = project[\"name\"]\n",
    "\n",
    "    return projects"
   ]
  },
  {
   "cell_type": "markdown",
   "metadata": {},
   "source": [
    "### List app users"
   ]
  },
  {
   "cell_type": "markdown",
   "metadata": {},
   "source": [
    "https://odkcentral.docs.apiary.io/#reference/accounts-and-users/users/listing-all-app-users"
   ]
  },
  {
   "cell_type": "code",
   "execution_count": 4,
   "metadata": {},
   "outputs": [],
   "source": [
    "def list_app_users(central_url, session_token, central_project_id):\n",
    "\n",
    "    app_users_response = requests.get(\n",
    "        central_url + \"/v1/projects/\" + str(central_project_id) + \"/app-users\",\n",
    "        headers={\"Authorization\": \"Bearer \" + session_token},\n",
    "    )\n",
    "\n",
    "    app_users = {}\n",
    "    for app_user in app_users_response.json():\n",
    "        app_users[app_user[\"id\"]] = app_user[\"displayName\"]\n",
    "    return app_users"
   ]
  },
  {
   "cell_type": "markdown",
   "metadata": {},
   "source": [
    "### Listing all submissions on a form"
   ]
  },
  {
   "cell_type": "markdown",
   "metadata": {},
   "source": [
    "https://odkcentral.docs.apiary.io/#reference/forms-and-submissions/submissions/listing-all-submissions-on-a-form"
   ]
  },
  {
   "cell_type": "code",
   "execution_count": 5,
   "metadata": {},
   "outputs": [],
   "source": [
    "def list_all_submissions(central_url, session_token, central_project_id, central_form_id):\n",
    "\n",
    "    submission_response = requests.get(\n",
    "        central_url + \"/v1/projects/\" + str(central_project_id) + \"/forms/\" + str(central_form_id) + \"/submissions\",\n",
    "        headers={\"Authorization\": \"Bearer \" + session_token},\n",
    "    )\n",
    "    \n",
    "    if submission_response.status_code == 200:\n",
    "        d = submission_response.json()\n",
    "        return pd.DataFrame(d)"
   ]
  },
  {
   "cell_type": "markdown",
   "metadata": {},
   "source": [
    "### Odata Endpoints Data Document"
   ]
  },
  {
   "cell_type": "markdown",
   "metadata": {},
   "source": [
    "https://odkcentral.docs.apiary.io/#reference/odata-endpoints/odata-form-service/data-document"
   ]
  },
  {
   "cell_type": "code",
   "execution_count": 6,
   "metadata": {},
   "outputs": [],
   "source": [
    "def data_document(central_url, session_token, central_project_id, central_form_id):\n",
    "\n",
    "    data_response = requests.get(\n",
    "        central_url + \"/v1/projects/\" + str(central_project_id) + \"/forms/\" + str(central_form_id) + \".svc/Submissions\",\n",
    "        headers={\"Authorization\": \"Bearer \" + session_token},\n",
    "    )\n",
    "\n",
    "    if data_response.status_code == 200:\n",
    "        d = data_response.json()['value']\n",
    "        return pd.DataFrame(d)"
   ]
  },
  {
   "cell_type": "markdown",
   "metadata": {},
   "source": [
    "### Direct Backup using an ad-hoc passphrase"
   ]
  },
  {
   "cell_type": "markdown",
   "metadata": {},
   "source": [
    "https://odkcentral.docs.apiary.io/#reference/system-endpoints/direct-backup"
   ]
  },
  {
   "cell_type": "code",
   "execution_count": 7,
   "metadata": {},
   "outputs": [],
   "source": [
    "def backup(central_url, session_token, passphrase):\n",
    "\n",
    "    backup_response = requests.post(\n",
    "        central_url + \"/v1/backup\",\n",
    "        data = json.dumps({\"passphrase\": passphrase}),\n",
    "        headers = {\"Authorization\": \"Bearer \" + session_token,\n",
    "                   \"Content-Type\": \"application/json\"},\n",
    "        stream = True\n",
    "    )\n",
    "\n",
    "    if backup_response.status_code == 200:\n",
    "        _, params = cgi.parse_header(backup_response.headers.get('Content-Disposition', ''))\n",
    "        filename = params[\"filename\"].replace(\":\",\"-\")\n",
    "        file = open(filename, \"wb\")\n",
    "        file.write(backup_response.content)\n",
    "        print(\"Backup successful\")"
   ]
  },
  {
   "cell_type": "markdown",
   "metadata": {},
   "source": [
    "### Main"
   ]
  },
  {
   "cell_type": "code",
   "execution_count": 8,
   "metadata": {},
   "outputs": [
    {
     "name": "stdout",
     "output_type": "stream",
     "text": [
      "- Project 13 - 1.TMCI Sénégal Etude Longitudinale\n",
      "  - App user 167 - Phase pilote\n",
      "- Project 16 - 2.TIMCI Sénégal EPS / Etude temporelle\n",
      "- Project 15 - 3.TIMCI Sénégal Etudes qualitatives\n",
      "- Project 17 - 4.TIMCI Sénégal Etude de coûts\n",
      "- Project 14 - Database stat tests\n",
      "  - App user 185 - UCAD core team\n",
      "  - App user 184 - Hospital research assistant\n",
      "  - App user 172 - Research assistant\n",
      "- Project 7 - Test\n",
      "  - App user 115 - Helene test user\n",
      "  - App user 74 - test user\n",
      "- Project 3 - TIMCI cost and cost effectiveness\n",
      "  - App user 128 - Data collector\n",
      "  - App user 21 - Data collector\n",
      "- Project 11 - TIMCI data collection test\n",
      "  - App user 86 - RCT / LS data collector\n",
      "  - App user 85 - CC data collector\n",
      "  - App user 84 - HB data collector\n",
      "  - App user 83 - FB data collector\n",
      "- Project 5 - TIMCI India\n",
      "- Project 9 - TIMCI Kenya\n",
      "  - App user 80 - Test data collector\n",
      "- Project 8 - TIMCI Myanmar\n",
      "  - App user 107 - Tester\n",
      "  - App user 79 - YeMinLatt\n",
      "- Project 12 - TIMCI qualitative reference\n",
      "  - App user 132 - Test user\n",
      "- Project 2 - TIMCI quantitative reference\n",
      "  - App user 195 - Gillian\n",
      "  - App user 125 - LS research assistant\n",
      "  - App user 82 - SPA data collector\n",
      "  - App user 52 - Main study data collector\n",
      "  - App user 18 - Test user 2\n",
      "  - App user 81 - Qualitative data collector\n",
      "  - App user 9 - Test user\n",
      "- Project 4 - TIMCI Tanzania\n",
      "  - App user 47 - SPA research assistants\n",
      "  - App user 46 - Research assistants\n",
      "- Project 10 - EncryptionTest\n",
      "  - App user 71 - test user\n",
      "- Project 1 - TIMCI screening\n",
      "  - App user 10 - Test user\n",
      "- Project 6 - TIMCI Senegal\n",
      "  - App user 113 - Facility research assistant\n",
      "  - App user 45 - SPA research assistant\n",
      "  - App user 44 - Research assistant\n"
     ]
    }
   ],
   "source": [
    "with open(\"odk_central_credentials.json\") as f:\n",
    "    credentials = json.load(f)\n",
    "    central_url = credentials[\"central_url\"]\n",
    "    central_email = credentials[\"central_email\"]\n",
    "    central_password = credentials[\"central_password\"]\n",
    "\n",
    "    session_token = get_session_token(central_url, central_email, central_password)\n",
    "    if session_token:\n",
    "        # List all projects\n",
    "        projects = list_projects(central_url, session_token)\n",
    "        # For each project, list all app users\n",
    "        for project_id, project_name in projects.items():\n",
    "            print(\"- Project\", project_id, \"- \" + project_name)\n",
    "            app_users = list_app_users(central_url, session_token, project_id)\n",
    "            for app_user_id, app_user_name in app_users.items():\n",
    "                print(\"  - App user\", app_user_id, \"- \" + app_user_name)\n",
    "    else:\n",
    "        print(\"Error getting session token\")"
   ]
  },
  {
   "cell_type": "code",
   "execution_count": 9,
   "metadata": {},
   "outputs": [
    {
     "name": "stdout",
     "output_type": "stream",
     "text": [
      "                                  instanceId  submitterId  \\\n",
      "0  uuid:40501623-d9eb-45a9-bd0a-a14326bde764          172   \n",
      "1  uuid:026ee164-8895-4ba0-a2af-b17de6c3fc0f          172   \n",
      "2  uuid:eaa1981e-955c-45a3-99b0-67317587e0df          172   \n",
      "3  uuid:33773827-f67e-42f2-997d-1848e308d4fe          172   \n",
      "4  uuid:e3414c44-e9d8-4859-a791-b10326d8dde1          172   \n",
      "\n",
      "                   deviceId                 createdAt updatedAt  \n",
      "0  collect:rlhNppIkdCdO9xM2  2021-03-10T21:33:08.255Z      None  \n",
      "1  collect:rlhNppIkdCdO9xM2  2021-03-09T11:08:44.513Z      None  \n",
      "2  collect:rlhNppIkdCdO9xM2  2021-03-09T07:47:31.359Z      None  \n",
      "3  collect:rlhNppIkdCdO9xM2  2021-03-09T07:42:44.458Z      None  \n",
      "4  collect:rlhNppIkdCdO9xM2  2021-02-17T13:20:26.170Z      None  \n"
     ]
    }
   ],
   "source": [
    "with open(\"odk_central_credentials.json\") as f:\n",
    "    credentials = json.load(f)\n",
    "    central_url = credentials[\"central_url\"]\n",
    "    central_email = credentials[\"central_email\"]\n",
    "    central_password = credentials[\"central_password\"]\n",
    "\n",
    "    session_token = get_session_token(central_url, central_email, central_password)\n",
    "    if session_token:\n",
    "        # List all submissions for form \"01-TIMCI-CRF-Facility\" in project 14\n",
    "        df = list_all_submissions(central_url, session_token, 14, \"01-TIMCI-CRF-Facility\")\n",
    "        print(df.head(5))\n",
    "    else:\n",
    "        print(\"Error getting session token\")"
   ]
  },
  {
   "cell_type": "code",
   "execution_count": 10,
   "metadata": {},
   "outputs": [
    {
     "name": "stdout",
     "output_type": "stream",
     "text": [
      "                                        __id       today  \\\n",
      "0  uuid:40501623-d9eb-45a9-bd0a-a14326bde764  2021-03-10   \n",
      "1  uuid:026ee164-8895-4ba0-a2af-b17de6c3fc0f  2021-03-09   \n",
      "2  uuid:eaa1981e-955c-45a3-99b0-67317587e0df  2021-03-09   \n",
      "3  uuid:33773827-f67e-42f2-997d-1848e308d4fe  2021-03-09   \n",
      "4  uuid:e3414c44-e9d8-4859-a791-b10326d8dde1  2021-02-17   \n",
      "\n",
      "                           start                            end  \\\n",
      "0  2021-03-10T22:27:18.764+01:00  2021-03-10T22:33:02.942+01:00   \n",
      "1  2021-03-09T11:38:36.060+01:00  2021-03-09T12:08:37.450+01:00   \n",
      "2  2021-03-09T08:46:48.819+01:00  2021-03-09T08:47:25.138+01:00   \n",
      "3  2021-03-09T08:40:42.173+01:00  2021-03-09T08:42:38.056+01:00   \n",
      "4  2021-02-17T14:13:28.562+01:00  2021-02-17T14:19:55.136+01:00   \n",
      "\n",
      "                   deviceid                          screening_id  \\\n",
      "0  collect:rlhNppIkdCdO9xM2  d124f0ea-f882-4378-9d56-ee429b1981c9   \n",
      "1  collect:rlhNppIkdCdO9xM2  dca599cd-b9dc-4aad-aeff-78999bb9ecaf   \n",
      "2  collect:rlhNppIkdCdO9xM2  4b37e0da-55fa-48a9-97f4-9c529f93ac47   \n",
      "3  collect:rlhNppIkdCdO9xM2  e8aae900-66b1-497b-94f2-8ab1d88a7952   \n",
      "4  collect:rlhNppIkdCdO9xM2  5d924cb6-06f6-4202-9291-35c1fa9bb46e   \n",
      "\n",
      "                                            __system  \\\n",
      "0  {'submissionDate': '2021-03-10T21:33:08.255Z',...   \n",
      "1  {'submissionDate': '2021-03-09T11:08:44.513Z',...   \n",
      "2  {'submissionDate': '2021-03-09T07:47:31.359Z',...   \n",
      "3  {'submissionDate': '2021-03-09T07:42:44.458Z',...   \n",
      "4  {'submissionDate': '2021-02-17T13:20:26.170Z',...   \n",
      "\n",
      "                                          front_page  \\\n",
      "0  {'generated_note_name_9': None, 'generated_not...   \n",
      "1  {'generated_note_name_9': None, 'generated_not...   \n",
      "2  {'generated_note_name_9': None, 'generated_not...   \n",
      "3  {'generated_note_name_9': None, 'generated_not...   \n",
      "4                                                NaN   \n",
      "\n",
      "                                                  a3  \\\n",
      "0  {'generated_note_name_13': None, 'generated_no...   \n",
      "1  {'generated_note_name_13': None, 'generated_no...   \n",
      "2  {'generated_note_name_13': None, 'generated_no...   \n",
      "3  {'generated_note_name_13': None, 'generated_no...   \n",
      "4  {'generated_note_name_13': None, 'generated_no...   \n",
      "\n",
      "                                        visit_reason  \\\n",
      "0  {'generated_note_name_61': None, 'a3_c_1': '4 ...   \n",
      "1  {'generated_note_name_61': None, 'a3_c_1': '99...   \n",
      "2                                                NaN   \n",
      "3                                                NaN   \n",
      "4  {'generated_note_name_61': None, 'a3_c_1': '4'...   \n",
      "\n",
      "                                  previous_enrolment  \\\n",
      "0  {'generated_note_name_81': None, 'a3_b_1': '3'...   \n",
      "1                                                NaN   \n",
      "2                                                NaN   \n",
      "3                                                NaN   \n",
      "4  {'generated_note_name_81': None, 'a3_b_1': '1'...   \n",
      "\n",
      "                                             consent  \\\n",
      "0  {'generated_note_name_102': None, 'generated_n...   \n",
      "1                                                NaN   \n",
      "2                                                NaN   \n",
      "3                                                NaN   \n",
      "4  {'generated_note_name_102': None, 'generated_n...   \n",
      "\n",
      "                                                crfs  \\\n",
      "0  {'generated_note_name_118': None, 'child_fname...   \n",
      "1                                                NaN   \n",
      "2                                                NaN   \n",
      "3                                                NaN   \n",
      "4  {'generated_note_name_118': None, 'child_fname...   \n",
      "\n",
      "                                                meta  \n",
      "0  {'audit': 'audit.csv', 'instanceID': 'uuid:405...  \n",
      "1  {'audit': 'audit.csv', 'instanceID': 'uuid:026...  \n",
      "2  {'audit': 'audit.csv', 'instanceID': 'uuid:eaa...  \n",
      "3  {'audit': 'audit.csv', 'instanceID': 'uuid:337...  \n",
      "4  {'audit': 'audit.csv', 'instanceID': 'uuid:e34...  \n"
     ]
    }
   ],
   "source": [
    "with open(\"odk_central_credentials.json\") as f:\n",
    "    credentials = json.load(f)\n",
    "    central_url = credentials[\"central_url\"]\n",
    "    central_email = credentials[\"central_email\"]\n",
    "    central_password = credentials[\"central_password\"]\n",
    "\n",
    "    session_token = get_session_token(central_url, central_email, central_password)\n",
    "    if session_token:\n",
    "        df = data_document(central_url, session_token, 14, \"01-TIMCI-CRF-Facility\")\n",
    "        print(df.head(5))\n",
    "    else:\n",
    "        print(\"Error getting session token\")"
   ]
  },
  {
   "cell_type": "code",
   "execution_count": 11,
   "metadata": {},
   "outputs": [
    {
     "name": "stdout",
     "output_type": "stream",
     "text": [
      "OK\n"
     ]
    }
   ],
   "source": [
    "with open(\"odk_central_credentials.json\") as f:\n",
    "    credentials = json.load(f)\n",
    "    central_url = credentials[\"central_url\"]\n",
    "    central_email = credentials[\"central_email\"]\n",
    "    central_password = credentials[\"central_password\"]\n",
    "    backup_passphrase = credentials[\"backup_passphrase\"]\n",
    "\n",
    "    session_token = get_session_token(central_url, central_email, central_password)\n",
    "    if session_token:\n",
    "        # Backup of ODK Central\n",
    "        backup(central_url, session_token, backup_passphrase)\n",
    "        print(\"OK\")\n",
    "    else:\n",
    "        print(\"Error getting session token\")"
   ]
  },
  {
   "cell_type": "code",
   "execution_count": null,
   "metadata": {},
   "outputs": [],
   "source": []
  }
 ],
 "metadata": {
  "kernelspec": {
   "display_name": "Python 3",
   "language": "python",
   "name": "python3"
  },
  "language_info": {
   "codemirror_mode": {
    "name": "ipython",
    "version": 3
   },
   "file_extension": ".py",
   "mimetype": "text/x-python",
   "name": "python",
   "nbconvert_exporter": "python",
   "pygments_lexer": "ipython3",
   "version": "3.7.7"
  }
 },
 "nbformat": 4,
 "nbformat_minor": 4
}
